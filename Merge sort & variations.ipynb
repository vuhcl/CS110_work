{
 "cells": [
  {
   "cell_type": "markdown",
   "metadata": {},
   "source": [
    "## Vu H. Chu-Le\n",
    "\n",
    "## CS110 Fall 2017"
   ]
  },
  {
   "cell_type": "markdown",
   "metadata": {},
   "source": [
    "---"
   ]
  },
  {
   "cell_type": "code",
   "execution_count": 1,
   "metadata": {
    "collapsed": true
   },
   "outputs": [],
   "source": [
    "# Regular merge sort\n",
    "\n",
    "def merge_2(left, right):    \n",
    "    # Empty list to contain sorted numbers\n",
    "    sort = []\n",
    "    # Index counters\n",
    "    i, j = 0, 0\n",
    "    \n",
    "    # Comparing and sorting numbers into the new list\n",
    "    while (len(sort) < len(left) + len(right)):\n",
    "        if left[i] < right[j]:\n",
    "            sort.append(left[i])\n",
    "            i+= 1\n",
    "        else:\n",
    "            sort.append(right[j])\n",
    "            j+= 1\n",
    "        \n",
    "        # If at the end of either sublist, put the rest of the other\n",
    "        # sublist into the sorted list and break the loop\n",
    "        if i == len(left) or j == len(right):\n",
    "            sort.extend(left[i:] or right[j:])\n",
    "            break\n",
    "    return sort\n",
    "\n",
    "def mergesort(lst):    \n",
    "    # If there is only one element, then nothing needs to be done\n",
    "    if len(lst) < 2:\n",
    "        return lst\n",
    "    \n",
    "    # Splitting the original list into two sublists, then call the\n",
    "    # function recursively to split the sublists further\n",
    "    middle = len(lst)//2\n",
    "    left = mergesort(lst[:middle])\n",
    "    right = mergesort(lst[middle:])\n",
    "    return merge_2(left, right)"
   ]
  },
  {
   "cell_type": "code",
   "execution_count": 2,
   "metadata": {
    "collapsed": true
   },
   "outputs": [],
   "source": [
    "# 3-way merge sort\n",
    "\n",
    "def merge_3(left, middle, right):\n",
    "    # Empty list to contain sorted numbers\n",
    "    sort = []\n",
    "    # Index counters\n",
    "    i, j, k = 0, 0, 0\n",
    "    # Length of the original list\n",
    "    total_length = len(left) + len(middle) + len(right)\n",
    "    \n",
    "    # Comparing and sorting numbers into the new list\n",
    "    while len(sort) < total_length:\n",
    "        if left[i] <= middle[j] and left[i] <= right[k]:\n",
    "            sort.append(left[i])\n",
    "            i+= 1\n",
    "        elif middle[j] <= left[i] and middle[j] <= right[k]:\n",
    "            sort.append(middle[j])\n",
    "            j+= 1\n",
    "        else:\n",
    "            sort.append(right[k])\n",
    "            k+= 1\n",
    "            \n",
    "        # If at the end of one of the sublists, then add a \"sentinel\"\n",
    "        # value of infinity at the end and continue comparing\n",
    "        if i == len(left):\n",
    "            left.append(float(\"inf\"))\n",
    "        if j == len(middle):\n",
    "            middle.append(float(\"inf\"))\n",
    "        if k == len(right):\n",
    "            right.append(float(\"inf\"))\n",
    "    return sort\n",
    "\n",
    "def mergesort_3(lst):\n",
    "    # If there is only one element, then nothing needs to be done\n",
    "    if len(lst) < 2:\n",
    "        return lst\n",
    "    \n",
    "    # If there are two elements, then check if they are in correct\n",
    "    # order and swap places if needed.\n",
    "    if len(lst) == 2:\n",
    "        if lst[0] > lst[1]:\n",
    "            return [lst[1],lst[0]]\n",
    "        return lst\n",
    "    \n",
    "    # Splitting the original list into three sublists, then call\n",
    "    # the function recursively to split the sublists further:    \n",
    "    \n",
    "    third = len(lst)//3\n",
    "    # In the case where length of the array is 2, this is equal to\n",
    "    # zero. Therefore, we need the separate case for length = 2 above. \n",
    "    \n",
    "    left = mergesort_3(lst[:third])\n",
    "    middle = mergesort_3(lst[third:2*third])\n",
    "    right = mergesort_3(lst[2*third:])\n",
    "    return merge_3(left, middle, right)"
   ]
  },
  {
   "cell_type": "code",
   "execution_count": 3,
   "metadata": {
    "collapsed": true
   },
   "outputs": [],
   "source": [
    "# Insertion sort algorithm\n",
    "def insert_sort(lst):\n",
    "    for j in range(1,len(lst)):\n",
    "        key = lst[j]\n",
    "        i = j\n",
    "        while i > 0 and lst[i-1] > key:\n",
    "            lst[i] = lst[i-1]\n",
    "            i -= 1\n",
    "        lst[i] = key\n",
    "    return lst\n",
    "\n",
    "# Augmented merge sort\n",
    "def mergesort_aug(lst):\n",
    "    # If there is only one element, then nothing needs to be done\n",
    "    if len(lst) < 2:\n",
    "        return lst\n",
    "    # If there are fewer than ten elements, then implement\n",
    "    # insertion sort rather than divide the sublist further.\n",
    "    if len(lst) < 10:\n",
    "        return insert_sort(lst)\n",
    "    \n",
    "    # Splitting the original list into three sublists, then call\n",
    "    # the function recursively to split the sublists further:\n",
    "    third = len(lst)//3\n",
    "    left = mergesort_aug(lst[:third])\n",
    "    middle = mergesort_aug(lst[third:2*third])\n",
    "    right = mergesort_aug(lst[2*third:])\n",
    "    return merge_3(left, middle, right)"
   ]
  },
  {
   "cell_type": "code",
   "execution_count": 4,
   "metadata": {
    "collapsed": true
   },
   "outputs": [],
   "source": [
    "from datetime import datetime\n",
    "from random import randint\n",
    "\n",
    "# Input: Desired length m of a list\n",
    "# Output: A list with m random integers with value in the range\n",
    "# [-1000;1000]\n",
    "def rand_list(m):\n",
    "    lis = []\n",
    "    for _ in range(m):\n",
    "        lis.append(randint(-1000,1000))\n",
    "    return lis\n",
    "\n",
    "# Input: A sort algorithm that takes in a list as the only argument\n",
    "# Output: Average time the algorithm takes to sort a list of\n",
    "# 10,000 random integers with value in the range [-1000;1000]\n",
    "def average_time(function):\n",
    "    # Empty list to contain all the recorded times\n",
    "    time = []\n",
    "    \n",
    "    # Run the algorithm 1000 times and measure the time it takes each\n",
    "    # iteration\n",
    "    for i in range(1000):\n",
    "        # Create a new list of 10,000 random integers each time\n",
    "        lst = rand_list(10000)\n",
    "        start = datetime.now()\n",
    "        function(lst)\n",
    "        end = datetime.now()\n",
    "        # Calculate time taken in seconds\n",
    "        time.append((end - start).total_seconds())\n",
    "    return sum(time) / len(time)"
   ]
  },
  {
   "cell_type": "markdown",
   "metadata": {},
   "source": [
    "---"
   ]
  },
  {
   "cell_type": "code",
   "execution_count": 5,
   "metadata": {
    "collapsed": false
   },
   "outputs": [
    {
     "data": {
      "text/html": [
       "<div>\n",
       "<table border=\"1\" class=\"dataframe\">\n",
       "  <thead>\n",
       "    <tr style=\"text-align: right;\">\n",
       "      <th></th>\n",
       "      <th>Average time taken (s)</th>\n",
       "    </tr>\n",
       "  </thead>\n",
       "  <tbody>\n",
       "    <tr>\n",
       "      <th>Merge sort</th>\n",
       "      <td>0.138266</td>\n",
       "    </tr>\n",
       "    <tr>\n",
       "      <th>3-way merge sort</th>\n",
       "      <td>0.125364</td>\n",
       "    </tr>\n",
       "    <tr>\n",
       "      <th>Augmented merge sort</th>\n",
       "      <td>0.090551</td>\n",
       "    </tr>\n",
       "  </tbody>\n",
       "</table>\n",
       "</div>"
      ],
      "text/plain": [
       "                      Average time taken (s)\n",
       "Merge sort                          0.138266\n",
       "3-way merge sort                    0.125364\n",
       "Augmented merge sort                0.090551"
      ]
     },
     "execution_count": 5,
     "metadata": {},
     "output_type": "execute_result"
    }
   ],
   "source": [
    "import pandas\n",
    "\n",
    "# Print a table with the physical runtime of regular merge sort, \n",
    "# three-way merge sort, and the augmented merge sort. Time recorded\n",
    "# is the average time each algorithm takes to sort a list of 10,000\n",
    "# random integers with value in the range [-1000;1000]\n",
    "data = []\n",
    "for i in [mergesort, mergesort_3, mergesort_aug]:\n",
    "    data.append(average_time(i))\n",
    "algorithm_list = [\"Merge sort\", \"3-way merge sort\",\n",
    "                  \"Augmented merge sort\"]\n",
    "headers = [\"Average time taken (s)\"]\n",
    "pandas.DataFrame(data, algorithm_list, headers)"
   ]
  },
  {
   "cell_type": "markdown",
   "metadata": {},
   "source": [
    "The table above shows the average time regular merge sort, three-way merge sort, and the augmented merge sort takes to sort a list of 10,000 pseudo-random integers. As we can see, the augmented merge sort is the best variation, while the regular merge sort is the worst variation among the three. To see if this remains true over different lengths of lists (from now on, we will refer to length of list as variable n) to be sorted, we do the same experiment for a range of different n from 100 to 10,000 (each test value is 100 apart) and graph the data recorded below."
   ]
  },
  {
   "cell_type": "code",
   "execution_count": 6,
   "metadata": {
    "collapsed": false,
    "scrolled": false
   },
   "outputs": [
    {
     "name": "stderr",
     "output_type": "stream",
     "text": [
      "//anaconda/lib/python2.7/site-packages/matplotlib/font_manager.py:273: UserWarning: Matplotlib is building the font cache using fc-list. This may take a moment.\n",
      "  warnings.warn('Matplotlib is building the font cache using fc-list. This may take a moment.')\n"
     ]
    },
    {
     "data": {
      "image/png": "[encoded data removed]",
      "text/plain": [
       "<matplotlib.figure.Figure at 0x113bdd090>"
      ]
     },
     "metadata": {},
     "output_type": "display_data"
    }
   ],
   "source": [
    "%matplotlib inline\n",
    "import matplotlib.pyplot as plt\n",
    "import seaborn\n",
    "\n",
    "# Record the time each of three merge sort variations take to sort\n",
    "# lists of different lengths:\n",
    "\n",
    "# Empty lists to contain the physical runtime of the three merge\n",
    "# sort variations\n",
    "time_merge, time_merge_3, time_merge_aug = [], [], []\n",
    "\n",
    "# Create a list containing different lengths of lists to be sorted,\n",
    "# ranging from 100 to 10,000; each test value is 100 apart.\n",
    "list_length = range(100, 10001, 100)\n",
    "\n",
    "# For each length value, calculate and record the time three merge\n",
    "# sort variations take to sort lists of such length value, then\n",
    "# store the average time into the corresponding list.\n",
    "for i in list_length:\n",
    "    lst = rand_list(i)\n",
    "        \n",
    "    start_merge = datetime.now()\n",
    "    mergesort(lst)\n",
    "    end_merge = datetime.now()\n",
    "    time_merge.append((end_merge-start_merge).total_seconds())\n",
    "        \n",
    "    start_merge_3 = datetime.now()\n",
    "    mergesort_3(lst)\n",
    "    end_merge_3 = datetime.now()\n",
    "    time_merge_3.append((end_merge_3-start_merge_3).total_seconds())\n",
    "        \n",
    "    start_merge_aug = datetime.now()\n",
    "    mergesort_aug(lst)\n",
    "    end_merge_aug = datetime.now()\n",
    "    time_merge_aug.append( \\\n",
    "                    (end_merge_aug-start_merge_aug).total_seconds())\n",
    "\n",
    "# Plot the physical runtime of regular merge sort\n",
    "merge_time = plt.plot(list_length, time_merge, \n",
    "                      label = \"Regular merge sort\")\n",
    "# Plot the physical runtime of 3-way merge sort\n",
    "merge_3_time = plt.plot(list_length, time_merge_3, \n",
    "                        label = \"3-way merge sort\")\n",
    "# Plot the physical runtime of augmented merge sort\n",
    "merge_aug_time = plt.plot(list_length, time_merge_aug, \n",
    "                          label = \"Augmented merge sort\")\n",
    "plt.legend(bbox_to_anchor=(1.05, 1), loc=2, borderaxespad=0.)\n",
    "plt.title('Practical run times of three merge sort variations')\n",
    "plt.xlabel('Length of list to be sorted')\n",
    "plt.ylabel('Time (s)')\n",
    "plt.show()"
   ]
  },
  {
   "cell_type": "markdown",
   "metadata": {},
   "source": [
    "As seen in the line graph above, the efficiency observed is consistent for various n values. This can be explained by looking at the algorithms' recursion relations. Even though both the regular and 3-way merge sort have time complexity of O(n log n), the log base is 2 for regular merge sort and 3 for 3-way merge sort. Since log<sub>2</sub>(x) > log<sub>3</sub>(x), for all x > 2, 3-way merge sort would take less time than regular merge sort in most instances. The augmented merge sort is faster than the 3-way merge sort because much like other quadratic sorting algorithms, insertion sort is efficient for small data sets. The same behavior will be observed again later in the optional challenge."
   ]
  },
  {
   "cell_type": "markdown",
   "metadata": {},
   "source": [
    "---"
   ]
  },
  {
   "cell_type": "markdown",
   "metadata": {},
   "source": [
    "#### Optional challenge"
   ]
  },
  {
   "cell_type": "code",
   "execution_count": 7,
   "metadata": {
    "collapsed": false,
    "scrolled": true
   },
   "outputs": [],
   "source": [
    "# k-way merge sort:\n",
    "\n",
    "def merge_k(all_list):\n",
    "    # Empty list to contain sorted numbers\n",
    "    sorted_list = []\n",
    "    \n",
    "    while all_list: # While there are unsorted elements\n",
    "        \n",
    "        # Variables to record the minimum element being compared and \n",
    "        # the index of the corresponding sublist\n",
    "        min_value, index = all_list[0][0], 0\n",
    "        \n",
    "        for lst in all_list: # For each sublist, do:\n",
    "            # If the first element in the list is smaller than the\n",
    "            # current minimum value, then make it the new value\n",
    "            # and record the index of the sublist containing it\n",
    "            if lst[0] < min_value:\n",
    "                min_value = lst[0]\n",
    "                index = all_list.index(lst)\n",
    "        \n",
    "        # Put the minimun value into the sorted list\n",
    "        sorted_list.append(min_value)\n",
    "        # Remove the minimum value from the sublist\n",
    "        all_list[index].pop(0)\n",
    "        \n",
    "        # If a sublist is empty, remove it from the list containing\n",
    "        # all sublists\n",
    "        if not all_list[index]:\n",
    "            all_list.remove(all_list[index])     \n",
    "    return sorted_list\n",
    "\n",
    "def mergesort_k(lst, k):\n",
    "    # If there is only one element, then nothing needs to be done\n",
    "    if len(lst) < 2:\n",
    "        return lst\n",
    "    \n",
    "    # If the number of elements of a sublist is smaller than k, \n",
    "    # then call the function to do a (k-1)-way merge instead of\n",
    "    # splitting it further into k parts, which is not possible.\n",
    "    if len(lst) < k:\n",
    "        return mergesort_k(lst, k-1)\n",
    "    \n",
    "    # Create a \"master\" list to contain all sublists\n",
    "    all_lst = []\n",
    "    # Split the original list into k sublists, then call the  \n",
    "    # function recursively to split the sublists further and put \n",
    "    # the results into the \"master\" list:\n",
    "    sub_length = len(lst)//k\n",
    "    for i in range(k-1):\n",
    "        sublist = mergesort_k(lst[i*sub_length:(i+1)*sub_length],k)\n",
    "        all_lst.append(sublist)\n",
    "    # The last (i+1) has the value of (k-1), so in the following\n",
    "    # line we write (k-1) instead of i to take all the elements\n",
    "    # remaining\n",
    "    all_lst.append(mergesort_k(lst[(k-1)*sub_length:],k))\n",
    "    return merge_k(all_lst)"
   ]
  },
  {
   "cell_type": "code",
   "execution_count": 8,
   "metadata": {
    "collapsed": false
   },
   "outputs": [
    {
     "name": "stdout",
     "output_type": "stream",
     "text": [
      "Time taken using regular merge sort:  0.006585 seconds\n",
      "Time taken using 3-way merge sort:  0.004804 seconds\n",
      "Time taken using augmented merge sort:  0.004131 seconds\n",
      "Time taken using k-way merge sort:  0.006671 seconds\n"
     ]
    }
   ],
   "source": [
    "# Create a list containing 500 random integers to test\n",
    "# and compare physical runtime of the four merge sort\n",
    "# variations::\n",
    "lst = rand_list(500)\n",
    "\n",
    "# Record physical runtime of regular merge sort\n",
    "start1 = datetime.now()\n",
    "mergesort(lst)\n",
    "end1 = datetime.now()\n",
    "\n",
    "# Record physical runtime of 3-way merge sort\n",
    "start2 = datetime.now()\n",
    "mergesort_3(lst)\n",
    "end2 = datetime.now()\n",
    "\n",
    "# Record physical runtime of augmented merge sort\n",
    "start3 = datetime.now()\n",
    "mergesort_aug(lst)\n",
    "end3 = datetime.now()\n",
    "\n",
    "# Record physical runtime of k-way (in this case, k=30) merge sort\n",
    "start4 = datetime.now()\n",
    "mergesort_k(lst, 30)\n",
    "end4 = datetime.now() \n",
    "\n",
    "print \"Time taken using regular merge sort: \", \\\n",
    "        (end1-start1).total_seconds(), \"seconds\"\n",
    "print \"Time taken using 3-way merge sort: \", \\\n",
    "        (end2-start2).total_seconds(), \"seconds\"\n",
    "print \"Time taken using augmented merge sort: \", \\\n",
    "        (end3-start3).total_seconds(), \"seconds\"\n",
    "print \"Time taken using k-way merge sort: \", \\\n",
    "        (end4-start4).total_seconds(), \"seconds\""
   ]
  },
  {
   "cell_type": "code",
   "execution_count": 9,
   "metadata": {
    "collapsed": false,
    "scrolled": true
   },
   "outputs": [],
   "source": [
    "# Input: A list to be sorted\n",
    "# Output: Two lists, one containing all possible k values and one\n",
    "# containing the respective time the algorithm takes for each k.\n",
    "def time_record(lst):\n",
    "    # Creating an empty list to record time taken\n",
    "    time = []\n",
    "    # Because we need to split it and each sublist has at least one\n",
    "    # elements, the range of possible k values is [2; length of list]\n",
    "    # (inclusive), which translates to range(2,len(lst)+1). Notice\n",
    "    # that when i = len(lst)+1, the algorithm is basically a \n",
    "    # selection sort.\n",
    "    for i in range(2,len(lst)+1):\n",
    "        start = datetime.now()\n",
    "        mergesort_k(lst, i)\n",
    "        end = datetime.now()\n",
    "        time.append((end-start).total_seconds())\n",
    "    return range(2,len(lst)+1), time"
   ]
  },
  {
   "cell_type": "code",
   "execution_count": 10,
   "metadata": {
    "collapsed": false,
    "scrolled": true
   },
   "outputs": [
    {
     "data": {
      "image/png": "[encoded data removed]",
      "text/plain": [
       "<matplotlib.figure.Figure at 0x106138210>"
      ]
     },
     "metadata": {},
     "output_type": "display_data"
    },
    {
     "name": "stdout",
     "output_type": "stream",
     "text": [
      "Best value of k:  8\n"
     ]
    }
   ],
   "source": [
    "%matplotlib inline\n",
    "import matplotlib.pyplot as plt\n",
    "\n",
    "# Plot a line graph illustrating changes in runtime as k changes\n",
    "# Note that we are sorting the same list from above\n",
    "x, y = time_record(lst)\n",
    "plt.plot(x, y)\n",
    "plt.title( \\\n",
    "'Practical run time of k-way merge sort for different values of k')\n",
    "plt.xlabel('k value')\n",
    "plt.ylabel('Time (s)')\n",
    "plt.show()\n",
    "\n",
    "# Find value of k that takes the least time\n",
    "a = y.index(min(y))\n",
    "print \"Best value of k: \", x[a]"
   ]
  },
  {
   "cell_type": "markdown",
   "metadata": {},
   "source": [
    "Our simulation shows that the \"best\" k value is 8 for n = 500. Another interesting observation is how the \"worst\" k value is approximately n/2, which is true for multiple n values."
   ]
  },
  {
   "cell_type": "code",
   "execution_count": 11,
   "metadata": {
    "collapsed": false
   },
   "outputs": [
    {
     "name": "stdout",
     "output_type": "stream",
     "text": [
      "Enter the number of times to run the algorithm: 50\n",
      "Enter the length of the list to be sorted: 500\n"
     ]
    },
    {
     "data": {
      "image/png": "[encoded data removed]",
      "text/plain": [
       "<matplotlib.figure.Figure at 0x11739a2d0>"
      ]
     },
     "metadata": {},
     "output_type": "display_data"
    }
   ],
   "source": [
    "# Input: Desired length of a list of random integers to be sorted\n",
    "# Output: The \"best\" value of k for that length\n",
    "def best_k(length_list):\n",
    "    x, y = time_record(rand_list(length_list))\n",
    "    best_time = y.index(min(y))\n",
    "    best_k = x[best_time]\n",
    "    return best_k\n",
    "    \n",
    "num = eval(raw_input \\\n",
    "           ('Enter the number of times to run the algorithm: '))\n",
    "length_list = eval(raw_input \\\n",
    "                 ('Enter the length of the list to be sorted: '))\n",
    "best_k_list = []\n",
    "\n",
    "# To minimalize the effect of randomization, reiterate to see the\n",
    "# most popular k\n",
    "for i in range(num):\n",
    "    best_k_list.append(best_k(length_list))\n",
    "plt.hist(best_k_list, bins = range(20))\n",
    "plt.title('Histogram of \"best\" k')\n",
    "plt.xlabel('k value')\n",
    "plt.ylabel('Frequency')\n",
    "plt.show()"
   ]
  },
  {
   "cell_type": "markdown",
   "metadata": {},
   "source": [
    "To mitigate the effect of noises, we run the simulation multiple time to check which k value shows up most frequently as the \"best\" value, or in other words, the \"true\" best k value. The histogram above confirms that the \"true\" best k value is 8 for n = 500."
   ]
  },
  {
   "cell_type": "code",
   "execution_count": 13,
   "metadata": {
    "collapsed": false
   },
   "outputs": [
    {
     "data": {
      "image/png": "[encoded data removed]",
      "text/plain": [
       "<matplotlib.figure.Figure at 0x11768b990>"
      ]
     },
     "metadata": {},
     "output_type": "display_data"
    }
   ],
   "source": [
    "# Input: Number of iterations, desired length of a list of random \n",
    "# integers to be sorted\n",
    "# Output: The most popular, or the \"true\" best k value\n",
    "def most_common_k(num, length_list):\n",
    "    best_k_list = []\n",
    "    for i in range(num):\n",
    "        best_k_list.append(best_k(length_list))\n",
    "    mode = max(set(best_k_list), key=best_k_list.count)\n",
    "    return mode\n",
    "\n",
    "# Testing different lengths of unsorted list to see if the best k\n",
    "# value has any relation to the length of the list:\n",
    "mode_list = []\n",
    "# List of lengths to be tested\n",
    "n_list = range(5, 201, 5)\n",
    "for n in n_list:\n",
    "    mode_list.append(most_common_k(50, n))\n",
    "plt.plot(n_list, mode_list)\n",
    "plt.title('Best k value for different lengths of list')\n",
    "plt.xlabel('Length of list to be sorted')\n",
    "plt.ylabel('Best k value')\n",
    "plt.show()"
   ]
  },
  {
   "cell_type": "markdown",
   "metadata": {},
   "source": [
    "The line graph above shows the \"true\" best k value for different n values. In general, the \"best\" k value increases as n increases. Notice how in small data sets (as shown in the graph, this means n <= 30), the \"best\" k value is equal to n, which means selection sort is more efficient than k-way merge sort for any other values of k. We can also fit the data points outside of this range into a best fit line to get a linear equation to approximate the best k value to use. In this case, the best fit line for values of k >= 35 is y = 0.239x + 6.5241."
   ]
  }
 ],
 "metadata": {
  "anaconda-cloud": {},
  "kernelspec": {
   "display_name": "Python [Root]",
   "language": "python",
   "name": "Python [Root]"
  },
  "language_info": {
   "codemirror_mode": {
    "name": "ipython",
    "version": 2
   },
   "file_extension": ".py",
   "mimetype": "text/x-python",
   "name": "python",
   "nbconvert_exporter": "python",
   "pygments_lexer": "ipython2",
   "version": "2.7.12"
  }
 },
 "nbformat": 4,
 "nbformat_minor": 0
}
