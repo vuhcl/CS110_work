{
 "cells": [
  {
   "cell_type": "code",
   "execution_count": 1,
   "metadata": {
    "collapsed": false
   },
   "outputs": [],
   "source": [
    "import numpy as np\n",
    "import math, mmh3\n",
    "\n",
    "class CountingBloomFilter:\n",
    "    # num_stored (n): the CBF must be able to store at least this \n",
    "    # many elements while maintaining the false positive rate.\n",
    "    # error_rate (p): the theoretically expected probability of  \n",
    "    # returning false positives, default is 1%.\n",
    "    # We use these two values to calculate the optimal memory \n",
    "    # size (m) and number of hash functions (k) (in this case,\n",
    "    # rather number of seeds) to use.\n",
    "    \n",
    "    def __init__(self, num_stored, error_rate=0.01):\n",
    "        if not (0 < error_rate < 1):\n",
    "            raise ValueError(\"Error_Rate must be between 0 and 1.\")\n",
    "        if not num_stored > 0:\n",
    "            raise ValueError(\"Number of elements stored must be > 0\")\n",
    "        self.m = int(math.ceil(\n",
    "            (num_stored * abs(math.log(error_rate))) /\n",
    "            (math.log(2) ** 2)))\n",
    "        self.k = int(math.ceil(math.log(1.0 / error_rate, 2)))\n",
    "        self.p = error_rate\n",
    "        self.array = np.zeros(self.m)\n",
    "        \n",
    "    def insert(self, elem):\n",
    "        for seed in range(self.k):\n",
    "            index = mmh3.hash(elem, seed)%self.m\n",
    "            self.array[index] += 1\n",
    "        \n",
    "    def query(self, elem):\n",
    "        for seed in range(self.k):\n",
    "            index = mmh3.hash(elem, seed)%self.m\n",
    "            if self.array[index] == 0:\n",
    "                return False\n",
    "        return True\n",
    "\n",
    "    def delete(self, elem):\n",
    "        if self.query(elem):\n",
    "            for seed in range(self.k):\n",
    "                index = mmh3.hash(elem, seed)%self.m\n",
    "                self.array[index] -= 1"
   ]
  }
 ],
 "metadata": {
  "anaconda-cloud": {},
  "kernelspec": {
   "display_name": "Python [Root]",
   "language": "python",
   "name": "Python [Root]"
  },
  "language_info": {
   "codemirror_mode": {
    "name": "ipython",
    "version": 2
   },
   "file_extension": ".py",
   "mimetype": "text/x-python",
   "name": "python",
   "nbconvert_exporter": "python",
   "pygments_lexer": "ipython2",
   "version": "2.7.12"
  }
 },
 "nbformat": 4,
 "nbformat_minor": 0
}
