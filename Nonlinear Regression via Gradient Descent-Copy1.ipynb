{
 "cells": [
  {
   "cell_type": "code",
   "execution_count": 3,
   "metadata": {
    "collapsed": false
   },
   "outputs": [],
   "source": [
    "from sympy import *
    "def gradient_descent(f, point, alpha = 0.01):\n",
    "    x, y, z = symbols('x y z', real=True)\n",
    "    # Get the partial derivatives\n",
    "    dfx = f.diff(x)\n",
    "    dfy = f.diff(y)\n",
    "    dfz = f.diff(z)\n",
    "    # Get initial values of the point from input\n",
    "    x0, y0, z0 = point[0], point[1], point[2]\n",
    "    while True:\n",
    "        x1 = x0 - alpha * dfx.subs({x:x0, y: y0, z:z0}).evalf()\n",
    "        y1 = y0 - alpha * dfy.subs({x:x0, y: y0, z:z0}).evalf()\n",
    "        z1 = z0 - alpha * dfz.subs({x:x0, y: y0, z:z0}).evalf()\n",
    "        # Stopping condition: Break the loop when the function\n",
    "        # value converges and is accurate to 5 decimal points\n",
    "        if abs(f.subs({x:x0, y: y0, z:z0}).evalf() - \\\n",
    "               f.subs({x:x1, y: y1, z:z1}).evalf()) < 10**(-5):\n",
    "            break\n",
    "        # Update values\n",
    "        x0, y0, z0 = x1, y1, z1\n",
    "    return [x1, y1, z1, f.subs({x:x1, y: y1, z:z1}).evalf()]"
   ]
  }
 ],
 "metadata": {
  "anaconda-cloud": {},
  "kernelspec": {
   "display_name": "Python [Root]",
   "language": "python",
   "name": "Python [Root]"
  },
  "language_info": {
   "codemirror_mode": {
    "name": "ipython",
    "version": 2
   },
   "file_extension": ".py",
   "mimetype": "text/x-python",
   "name": "python",
   "nbconvert_exporter": "python",
   "pygments_lexer": "ipython2",
   "version": "2.7.12"
  }
 },
 "nbformat": 4,
 "nbformat_minor": 0
}
